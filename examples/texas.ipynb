{
 "cells": [
  {
   "attachments": {},
   "cell_type": "markdown",
   "metadata": {},
   "source": [
    "# Prison construction and Black male incarceration\n",
    "### Scott Cunningham\n",
    "\n",
    "This notebook reproduces the weights from the last chapter of the book \"Causal Inference: The Mixtape\" by Scott Cunningham that examined prison construction and black male incarceration in the state of Texas. The study data is contained in the file `../data/texas.csv` (more detailed information on this dataset can be found in the book mentioned)."
   ]
  },
  {
   "cell_type": "code",
   "execution_count": 1,
   "metadata": {},
   "outputs": [],
   "source": [
    "import pandas as pd\n",
    "from pysyncon import Dataprep, Synth"
   ]
  },
  {
   "attachments": {},
   "cell_type": "markdown",
   "metadata": {},
   "source": [
    "We prepare the study data using a `Dataprep` object that describes all the details needed to define the synthetic control study. This works similarly to the `dataprep` method in the `R` package `synth`.\n",
    "\n",
    "(For an explanation of each of the `Dataprep` arguments, see the package [documentation](https://sdfordham.github.io/pysyncon/dataprep.html#pysyncon.Dataprep))."
   ]
  },
  {
   "cell_type": "code",
   "execution_count": 2,
   "metadata": {},
   "outputs": [
    {
     "name": "stdout",
     "output_type": "stream",
     "text": [
      "Dataprep\n",
      "Treated unit: Texas\n",
      "Dependent variable: bmprison\n",
      "Control units: Alabama, Alaska, Arizona, Arkansas, California, Colorado, Connecticut, Delaware, District of Columbia, Florida, Georgia, Hawaii, Idaho, Illinois, Indiana, Iowa, Kansas, Kentucky, Louisiana, Maine, Maryland, Massachusetts, Michigan, Minnesota, Mississippi, Missouri, Montana, Nebraska, Nevada, New Hampshire, New Jersey, New Mexico, New York, North Carolina, North Dakota, Ohio, Oklahoma, Oregon, Pennsylvania, Rhode Island, South Carolina, South Dakota, Tennessee, Utah, Vermont, Virginia, Washington, West Virginia, Wisconsin, Wyoming\n",
      "Time range in data: 1985.0 - 2000.0\n",
      "Time range for loss minimization: range(1985, 1994)\n",
      "Time range for predictors: range(1985, 1994)\n",
      "Predictors: income, ur, poverty\n",
      "Special predictors:\n",
      "    `bmprison` over `[1988]` using `mean`\n",
      "    `bmprison` over `[1990]` using `mean`\n",
      "    `bmprison` over `[1991]` using `mean`\n",
      "    `bmprison` over `[1992]` using `mean`\n",
      "    `alcohol` over `[1990]` using `mean`\n",
      "    `aidscapita` over `[1990]` using `mean`\n",
      "    `aidscapita` over `[1991]` using `mean`\n",
      "    `black` over `[1990]` using `mean`\n",
      "    `black` over `[1991]` using `mean`\n",
      "    `black` over `[1992]` using `mean`\n",
      "    `perc1519` over `[1990]` using `mean`\n",
      "\n"
     ]
    }
   ],
   "source": [
    "df = pd.read_csv(\"../data/texas.csv\")\n",
    "\n",
    "dataprep = Dataprep(\n",
    "    foo=df,\n",
    "    predictors=[\"income\", \"ur\", \"poverty\"],\n",
    "    predictors_op=\"mean\",\n",
    "    time_predictors_prior=range(1985, 1994),\n",
    "    special_predictors=[\n",
    "        (\"bmprison\", [1988], \"mean\"),\n",
    "        (\"bmprison\", [1990], \"mean\"),\n",
    "        (\"bmprison\", [1991], \"mean\"),\n",
    "        (\"bmprison\", [1992], \"mean\"),\n",
    "        (\"alcohol\", [1990], \"mean\"),\n",
    "        (\"aidscapita\", [1990], \"mean\"),\n",
    "        (\"aidscapita\", [1991], \"mean\"),\n",
    "        (\"black\", [1990], \"mean\"),\n",
    "        (\"black\", [1991], \"mean\"),\n",
    "        (\"black\", [1992], \"mean\"),\n",
    "        (\"perc1519\", [1990], \"mean\"),\n",
    "    ],\n",
    "    dependent=\"bmprison\",\n",
    "    unit_variable=\"state\",\n",
    "    time_variable=\"year\",\n",
    "    treatment_identifier=\"Texas\",\n",
    "    controls_identifier=[\n",
    "        \"Alabama\",\n",
    "        \"Alaska\",\n",
    "        \"Arizona\",\n",
    "        \"Arkansas\",\n",
    "        \"California\",\n",
    "        \"Colorado\",\n",
    "        \"Connecticut\",\n",
    "        \"Delaware\",\n",
    "        \"District of Columbia\",\n",
    "        \"Florida\",\n",
    "        \"Georgia\",\n",
    "        \"Hawaii\",\n",
    "        \"Idaho\",\n",
    "        \"Illinois\",\n",
    "        \"Indiana\",\n",
    "        \"Iowa\",\n",
    "        \"Kansas\",\n",
    "        \"Kentucky\",\n",
    "        \"Louisiana\",\n",
    "        \"Maine\",\n",
    "        \"Maryland\",\n",
    "        \"Massachusetts\",\n",
    "        \"Michigan\",\n",
    "        \"Minnesota\",\n",
    "        \"Mississippi\",\n",
    "        \"Missouri\",\n",
    "        \"Montana\",\n",
    "        \"Nebraska\",\n",
    "        \"Nevada\",\n",
    "        \"New Hampshire\",\n",
    "        \"New Jersey\",\n",
    "        \"New Mexico\",\n",
    "        \"New York\",\n",
    "        \"North Carolina\",\n",
    "        \"North Dakota\",\n",
    "        \"Ohio\",\n",
    "        \"Oklahoma\",\n",
    "        \"Oregon\",\n",
    "        \"Pennsylvania\",\n",
    "        \"Rhode Island\",\n",
    "        \"South Carolina\",\n",
    "        \"South Dakota\",\n",
    "        \"Tennessee\",\n",
    "        \"Utah\",\n",
    "        \"Vermont\",\n",
    "        \"Virginia\",\n",
    "        \"Washington\",\n",
    "        \"West Virginia\",\n",
    "        \"Wisconsin\",\n",
    "        \"Wyoming\",\n",
    "    ],\n",
    "    time_optimize_ssr=range(1985, 1994),\n",
    ")\n",
    "\n",
    "print(dataprep)"
   ]
  },
  {
   "cell_type": "markdown",
   "metadata": {},
   "source": [
    "\n",
    "We supply the `Dataprep` object to a `Synth` object. The optimisation scheme we use is [BFGS](https://docs.scipy.org/doc/scipy/reference/optimize.minimize-bfgs.html) and the starting point for the optimisation is `ols` i.e. the initial weights are obtained by fitting an ordinary-least-squares estimate. (Unlike the `R` package `synth` which performs four different runs under the hood (two different starting points and two different optimisation schemes), in this package only one optimisation is run per `fit`).\n",
    "\n",
    "*Nota bene that the weights obtained by the synthetic control method are often highly sensitive to the chosen optimisation scheme and starting point.*"
   ]
  },
  {
   "cell_type": "code",
   "execution_count": 3,
   "metadata": {},
   "outputs": [
    {
     "data": {
      "text/plain": [
       "California    0.409\n",
       "Florida       0.108\n",
       "Illinois      0.361\n",
       "Louisiana     0.122\n",
       "Name: weights, dtype: float64"
      ]
     },
     "execution_count": 3,
     "metadata": {},
     "output_type": "execute_result"
    }
   ],
   "source": [
    "synth = Synth()\n",
    "synth.fit(dataprep=dataprep, optim_method=\"BFGS\", optim_initial=\"ols\")\n",
    "\n",
    "synth.weights(threshold=0.01)"
   ]
  },
  {
   "attachments": {},
   "cell_type": "markdown",
   "metadata": {},
   "source": [
    "The synthetic control obtained from the optimisation is: $$\\text{Synthetic Control} = 0.409 \\times \\text{California} + 0.108 \\times \\text{Florida} + 0.361 \\times \\text{Illinois} + 0.122 \\times \\text{Louisiana}.$$"
   ]
  },
  {
   "attachments": {},
   "cell_type": "markdown",
   "metadata": {},
   "source": [
    "The `path_plot` method shows the path of the treated unit and the synthetic control over time."
   ]
  },
  {
   "cell_type": "code",
   "execution_count": 4,
   "metadata": {},
   "outputs": [
    {
     "data": {
      "image/png": "[encoded data removed]",
      "text/plain": [
       "<Figure size 640x480 with 1 Axes>"
      ]
     },
     "metadata": {},
     "output_type": "display_data"
    }
   ],
   "source": [
    "synth.path_plot(time_period=range(1985, 2001), treatment_time=1993)"
   ]
  },
  {
   "attachments": {},
   "cell_type": "markdown",
   "metadata": {},
   "source": [
    "The `gaps_plot` method shows the gaps (the difference between the treated unit and the synthetic control) over time."
   ]
  },
  {
   "cell_type": "code",
   "execution_count": 5,
   "metadata": {},
   "outputs": [
    {
     "data": {
      "image/png": "[encoded data removed]",
      "text/plain": [
       "<Figure size 640x480 with 1 Axes>"
      ]
     },
     "metadata": {},
     "output_type": "display_data"
    }
   ],
   "source": [
    "synth.gaps_plot(time_period=range(1985, 2001), treatment_time=1993)"
   ]
  },
  {
   "cell_type": "markdown",
   "metadata": {},
   "source": [
    "Compute the average treatment effect on the treated unit (ATT) over the post-treatment time period, also returns a standard error (se)."
   ]
  },
  {
   "cell_type": "code",
   "execution_count": 6,
   "metadata": {},
   "outputs": [
    {
     "data": {
      "text/plain": [
       "{'att': 20339.375838131393, 'se': 3190.4946788704715}"
      ]
     },
     "execution_count": 6,
     "metadata": {},
     "output_type": "execute_result"
    }
   ],
   "source": [
    "synth.att(time_period=range(1993, 2001))"
   ]
  },
  {
   "cell_type": "markdown",
   "metadata": {},
   "source": [
    "The summary function give more information on the predictor values. The first column shows the value of the $V$ matrix for each predictor, the column 'treated' shows the mean value of each predictor for the treated unit over the time period `time_predictors_prior`, the column 'synthetic' shows the mean value of each predictor for the synthetic control over the time period `time_predictors_prior` and finally the column 'sample mean' shows the sample mean of that predictor for all control units over the time period `time_predictors_prior` i.e. this is the same as the synthetic control with all weights equal."
   ]
  },
  {
   "cell_type": "code",
   "execution_count": 7,
   "metadata": {},
   "outputs": [
    {
     "data": {
      "text/html": [
       "<div>\n",
       "<style scoped>\n",
       "    .dataframe tbody tr th:only-of-type {\n",
       "        vertical-align: middle;\n",
       "    }\n",
       "\n",
       "    .dataframe tbody tr th {\n",
       "        vertical-align: top;\n",
       "    }\n",
       "\n",
       "    .dataframe thead th {\n",
       "        text-align: right;\n",
       "    }\n",
       "</style>\n",
       "<table border=\"1\" class=\"dataframe\">\n",
       "  <thead>\n",
       "    <tr style=\"text-align: right;\">\n",
       "      <th></th>\n",
       "      <th>V</th>\n",
       "      <th>treated</th>\n",
       "      <th>synthetic</th>\n",
       "      <th>sample mean</th>\n",
       "    </tr>\n",
       "  </thead>\n",
       "  <tbody>\n",
       "    <tr>\n",
       "      <th>income</th>\n",
       "      <td>0.000</td>\n",
       "      <td>16485.778</td>\n",
       "      <td>19003.932</td>\n",
       "      <td>17480.102</td>\n",
       "    </tr>\n",
       "    <tr>\n",
       "      <th>ur</th>\n",
       "      <td>0.000</td>\n",
       "      <td>7.399</td>\n",
       "      <td>7.314</td>\n",
       "      <td>6.167</td>\n",
       "    </tr>\n",
       "    <tr>\n",
       "      <th>poverty</th>\n",
       "      <td>0.000</td>\n",
       "      <td>17.222</td>\n",
       "      <td>15.169</td>\n",
       "      <td>13.492</td>\n",
       "    </tr>\n",
       "    <tr>\n",
       "      <th>special.1.bmprison</th>\n",
       "      <td>0.041</td>\n",
       "      <td>16956.000</td>\n",
       "      <td>18394.431</td>\n",
       "      <td>4872.160</td>\n",
       "    </tr>\n",
       "    <tr>\n",
       "      <th>special.2.bmprison</th>\n",
       "      <td>0.041</td>\n",
       "      <td>22634.000</td>\n",
       "      <td>23159.063</td>\n",
       "      <td>6098.230</td>\n",
       "    </tr>\n",
       "    <tr>\n",
       "      <th>special.3.bmprison</th>\n",
       "      <td>0.056</td>\n",
       "      <td>23249.000</td>\n",
       "      <td>24296.887</td>\n",
       "      <td>6560.480</td>\n",
       "    </tr>\n",
       "    <tr>\n",
       "      <th>special.4.bmprison</th>\n",
       "      <td>0.145</td>\n",
       "      <td>27568.000</td>\n",
       "      <td>25803.122</td>\n",
       "      <td>6971.660</td>\n",
       "    </tr>\n",
       "    <tr>\n",
       "      <th>special.5.alcohol</th>\n",
       "      <td>0.000</td>\n",
       "      <td>2.470</td>\n",
       "      <td>2.712</td>\n",
       "      <td>2.504</td>\n",
       "    </tr>\n",
       "    <tr>\n",
       "      <th>special.6.aidscapita</th>\n",
       "      <td>0.015</td>\n",
       "      <td>13.590</td>\n",
       "      <td>15.006</td>\n",
       "      <td>8.763</td>\n",
       "    </tr>\n",
       "    <tr>\n",
       "      <th>special.7.aidscapita</th>\n",
       "      <td>0.016</td>\n",
       "      <td>14.835</td>\n",
       "      <td>17.252</td>\n",
       "      <td>10.126</td>\n",
       "    </tr>\n",
       "    <tr>\n",
       "      <th>special.8.black</th>\n",
       "      <td>0.172</td>\n",
       "      <td>16.155</td>\n",
       "      <td>15.991</td>\n",
       "      <td>11.288</td>\n",
       "    </tr>\n",
       "    <tr>\n",
       "      <th>special.9.black</th>\n",
       "      <td>0.443</td>\n",
       "      <td>16.300</td>\n",
       "      <td>16.179</td>\n",
       "      <td>11.418</td>\n",
       "    </tr>\n",
       "    <tr>\n",
       "      <th>special.10.black</th>\n",
       "      <td>0.070</td>\n",
       "      <td>16.460</td>\n",
       "      <td>16.385</td>\n",
       "      <td>11.566</td>\n",
       "    </tr>\n",
       "    <tr>\n",
       "      <th>special.11.perc1519</th>\n",
       "      <td>0.000</td>\n",
       "      <td>7.703</td>\n",
       "      <td>7.030</td>\n",
       "      <td>7.193</td>\n",
       "    </tr>\n",
       "  </tbody>\n",
       "</table>\n",
       "</div>"
      ],
      "text/plain": [
       "                          V    treated  synthetic  sample mean\n",
       "income                0.000  16485.778  19003.932    17480.102\n",
       "ur                    0.000      7.399      7.314        6.167\n",
       "poverty               0.000     17.222     15.169       13.492\n",
       "special.1.bmprison    0.041  16956.000  18394.431     4872.160\n",
       "special.2.bmprison    0.041  22634.000  23159.063     6098.230\n",
       "special.3.bmprison    0.056  23249.000  24296.887     6560.480\n",
       "special.4.bmprison    0.145  27568.000  25803.122     6971.660\n",
       "special.5.alcohol     0.000      2.470      2.712        2.504\n",
       "special.6.aidscapita  0.015     13.590     15.006        8.763\n",
       "special.7.aidscapita  0.016     14.835     17.252       10.126\n",
       "special.8.black       0.172     16.155     15.991       11.288\n",
       "special.9.black       0.443     16.300     16.179       11.418\n",
       "special.10.black      0.070     16.460     16.385       11.566\n",
       "special.11.perc1519   0.000      7.703      7.030        7.193"
      ]
     },
     "execution_count": 7,
     "metadata": {},
     "output_type": "execute_result"
    }
   ],
   "source": [
    "synth.summary()"
   ]
  }
 ],
 "metadata": {
  "kernelspec": {
   "display_name": ".venv",
   "language": "python",
   "name": "python3"
  },
  "language_info": {
   "codemirror_mode": {
    "name": "ipython",
    "version": 3
   },
   "file_extension": ".py",
   "mimetype": "text/x-python",
   "name": "python",
   "nbconvert_exporter": "python",
   "pygments_lexer": "ipython3",
   "version": "3.10.4"
  },
  "orig_nbformat": 4,
  "vscode": {
   "interpreter": {
    "hash": "0affce9ccf703bfc26f5559d4b07023a564b817a32e04b2ea45527debe8fe1b9"
   }
  }
 },
 "nbformat": 4,
 "nbformat_minor": 2
}
