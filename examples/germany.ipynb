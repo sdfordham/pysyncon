{
 "cells": [
  {
   "attachments": {},
   "cell_type": "markdown",
   "metadata": {},
   "source": [
    "# Comparative Politics and the Synthetic Control Method\n",
    "### Abadie, Diamond and Hainmueller"
   ]
  },
  {
   "attachments": {},
   "cell_type": "markdown",
   "metadata": {},
   "source": [
    "This notebook reproduces the weights from the 2015 paper \"Comparative Politics and the Synthetic Control Method\" by Alberto Abadie, Alexis Diamond and Jens Hainmueller. The study data is contained in the file `../data/germany.csv` (more detailed information on this dataset is available in the appendix of the cited paper)."
   ]
  },
  {
   "cell_type": "code",
   "execution_count": 1,
   "metadata": {},
   "outputs": [],
   "source": [
    "import pandas as pd\n",
    "from pysyncon import Dataprep, Synth"
   ]
  },
  {
   "attachments": {},
   "cell_type": "markdown",
   "metadata": {},
   "source": [
    "The study is carried out in two steps. In each step we prepare the study data using a `Dataprep` object that describes all the details needed to define the synthetic control study. This works similarly to the `dataprep` method in the `R` package `synth`.\n",
    "\n",
    "In the first run, the optimisation is carried out over the period 1981 to 1991, and the $V$ matrix obtained in this optimisation is then used in the second run, where the optimisation is carried out over the period 1960 to 1990. This serves to enforce that the predictor importances used in the final optimisation are those of the eighties.\n",
    "\n",
    "In each case, we supply the `Dataprep` object to a `Synth` object. In the second run, we can provide a custom $V$ matrix with the `custom_V` option.\n",
    "\n",
    "(For an explanation of each of the `Dataprep` arguments, see the package [documentation](https://sdfordham.github.io/pysyncon/dataprep.html#pysyncon.Dataprep))."
   ]
  },
  {
   "cell_type": "code",
   "execution_count": 2,
   "metadata": {},
   "outputs": [
    {
     "name": "stdout",
     "output_type": "stream",
     "text": [
      "Dataprep\n",
      "Treated unit: West Germany\n",
      "Dependent variable: gdp\n",
      "Control units: USA, UK, Austria, Belgium, Denmark, France, Italy, Netherlands, Norway, Switzerland, Japan, Greece, Portugal, Spain, Australia, New Zealand\n",
      "Time range in data: 1960 - 2003\n",
      "Time range for loss minimization: range(1981, 1991)\n",
      "Time range for predictors: range(1971, 1981)\n",
      "Predictors: gdp, trade, infrate\n",
      "Special predictors:\n",
      "    `industry` over `range(1971, 1981)` using `mean`\n",
      "    `schooling` over `[1970, 1975]` using `mean`\n",
      "    `invest70` over `[1980]` using `mean`\n",
      "\n"
     ]
    }
   ],
   "source": [
    "df = pd.read_csv(\"../data/germany.csv\")\n",
    "\n",
    "dataprep_train = Dataprep(\n",
    "    foo=df,\n",
    "    predictors=[\"gdp\", \"trade\", \"infrate\"],\n",
    "    predictors_op=\"mean\",\n",
    "    time_predictors_prior=range(1971, 1981),\n",
    "    special_predictors=[\n",
    "        (\"industry\", range(1971, 1981), \"mean\"),\n",
    "        (\"schooling\", [1970, 1975], \"mean\"),\n",
    "        (\"invest70\", [1980], \"mean\"),\n",
    "    ],\n",
    "    dependent=\"gdp\",\n",
    "    unit_variable=\"country\",\n",
    "    time_variable=\"year\",\n",
    "    treatment_identifier=\"West Germany\",\n",
    "    controls_identifier=[\n",
    "        \"USA\",\n",
    "        \"UK\",\n",
    "        \"Austria\",\n",
    "        \"Belgium\",\n",
    "        \"Denmark\",\n",
    "        \"France\",\n",
    "        \"Italy\",\n",
    "        \"Netherlands\",\n",
    "        \"Norway\",\n",
    "        \"Switzerland\",\n",
    "        \"Japan\",\n",
    "        \"Greece\",\n",
    "        \"Portugal\",\n",
    "        \"Spain\",\n",
    "        \"Australia\",\n",
    "        \"New Zealand\",\n",
    "    ],\n",
    "    time_optimize_ssr=range(1981, 1991),\n",
    ")\n",
    "\n",
    "print(dataprep_train)"
   ]
  },
  {
   "cell_type": "code",
   "execution_count": 3,
   "metadata": {},
   "outputs": [],
   "source": [
    "synth_train = Synth()\n",
    "synth_train.fit(dataprep=dataprep_train)"
   ]
  },
  {
   "cell_type": "code",
   "execution_count": 4,
   "metadata": {},
   "outputs": [
    {
     "name": "stdout",
     "output_type": "stream",
     "text": [
      "Dataprep\n",
      "Treated unit: West Germany\n",
      "Dependent variable: gdp\n",
      "Control units: USA, UK, Austria, Belgium, Denmark, France, Italy, Netherlands, Norway, Switzerland, Japan, Greece, Portugal, Spain, Australia, New Zealand\n",
      "Time range in data: 1960 - 2003\n",
      "Time range for loss minimization: range(1960, 1990)\n",
      "Time range for predictors: range(1981, 1991)\n",
      "Predictors: gdp, trade, infrate\n",
      "Special predictors:\n",
      "    `industry` over `range(1981, 1991)` using `mean`\n",
      "    `schooling` over `[1980, 1985]` using `mean`\n",
      "    `invest80` over `[1980]` using `mean`\n",
      "\n"
     ]
    }
   ],
   "source": [
    "dataprep = Dataprep(\n",
    "    foo=df,\n",
    "    predictors=[\"gdp\", \"trade\", \"infrate\"],\n",
    "    predictors_op=\"mean\",\n",
    "    time_predictors_prior=range(1981, 1991),\n",
    "    special_predictors=[\n",
    "        (\"industry\", range(1981, 1991), \"mean\"),\n",
    "        (\"schooling\", [1980, 1985], \"mean\"),\n",
    "        (\"invest80\", [1980], \"mean\"),\n",
    "    ],\n",
    "    dependent=\"gdp\",\n",
    "    unit_variable=\"country\",\n",
    "    time_variable=\"year\",\n",
    "    treatment_identifier=\"West Germany\",\n",
    "    controls_identifier=[\n",
    "        \"USA\",\n",
    "        \"UK\",\n",
    "        \"Austria\",\n",
    "        \"Belgium\",\n",
    "        \"Denmark\",\n",
    "        \"France\",\n",
    "        \"Italy\",\n",
    "        \"Netherlands\",\n",
    "        \"Norway\",\n",
    "        \"Switzerland\",\n",
    "        \"Japan\",\n",
    "        \"Greece\",\n",
    "        \"Portugal\",\n",
    "        \"Spain\",\n",
    "        \"Australia\",\n",
    "        \"New Zealand\",\n",
    "    ],\n",
    "    time_optimize_ssr=range(1960, 1990),\n",
    ")\n",
    "\n",
    "print(dataprep)"
   ]
  },
  {
   "cell_type": "code",
   "execution_count": 5,
   "metadata": {},
   "outputs": [
    {
     "data": {
      "text/plain": [
       "USA            0.216\n",
       "UK             0.000\n",
       "Austria        0.415\n",
       "Belgium        0.000\n",
       "Denmark        0.000\n",
       "France         0.000\n",
       "Italy          0.000\n",
       "Netherlands    0.098\n",
       "Norway         0.000\n",
       "Switzerland    0.108\n",
       "Japan          0.163\n",
       "Greece         0.000\n",
       "Portugal       0.000\n",
       "Spain          0.000\n",
       "Australia      0.000\n",
       "New Zealand    0.000\n",
       "Name: weights, dtype: float64"
      ]
     },
     "execution_count": 5,
     "metadata": {},
     "output_type": "execute_result"
    }
   ],
   "source": [
    "synth = Synth()\n",
    "synth.fit(dataprep=dataprep, custom_V=synth_train.V)\n",
    "\n",
    "synth.weights()"
   ]
  },
  {
   "attachments": {},
   "cell_type": "markdown",
   "metadata": {},
   "source": [
    "The synthetic control obtained from the optimisation is: $$\\text{Synthetic Control} = 0.216 \\times \\text{USA} + 0.415 \\times \\text{Austria} + 0.098 \\times \\text{Nederlands} + 0.108 \\times \\text{Switzerland} + 0.163 \\times \\text{Japan}.$$"
   ]
  },
  {
   "attachments": {},
   "cell_type": "markdown",
   "metadata": {},
   "source": [
    "The `path_plot` method shows the path of the treated unit and the synthetic control over time."
   ]
  },
  {
   "cell_type": "code",
   "execution_count": 6,
   "metadata": {},
   "outputs": [
    {
     "data": {
      "image/png": "[encoded data removed]",
      "text/plain": [
       "<Figure size 640x480 with 1 Axes>"
      ]
     },
     "metadata": {},
     "output_type": "display_data"
    }
   ],
   "source": [
    "synth.path_plot(time_period=range(1960, 2004), treatment_time=1990)"
   ]
  },
  {
   "attachments": {},
   "cell_type": "markdown",
   "metadata": {},
   "source": [
    "The `gaps_plot` method shows the gaps (the difference between the treated unit and the synthetic control) over time."
   ]
  },
  {
   "cell_type": "code",
   "execution_count": 7,
   "metadata": {},
   "outputs": [
    {
     "data": {
      "image/png": "[encoded data removed]",
      "text/plain": [
       "<Figure size 640x480 with 1 Axes>"
      ]
     },
     "metadata": {},
     "output_type": "display_data"
    }
   ],
   "source": [
    "synth.gaps_plot(time_period=range(1960, 2004), treatment_time=1990)"
   ]
  },
  {
   "cell_type": "markdown",
   "metadata": {},
   "source": [
    "The summary function give more information on the predictor values. The first column shows the value of the $V$ matrix for each predictor, the column 'treated' shows the mean value of each predictor for the treated unit over the time period `time_predictors_prior`, the column 'synthetic' shows the mean value of each predictor for the synthetic control over the time period `time_predictors_prior` and finally the column 'sample mean' shows the sample mean of that predictor for all control units over the time period `time_predictors_prior` i.e. this is the same as the synthetic control with all weights equal."
   ]
  },
  {
   "cell_type": "code",
   "execution_count": 8,
   "metadata": {},
   "outputs": [
    {
     "data": {
      "text/html": [
       "<div>\n",
       "<style scoped>\n",
       "    .dataframe tbody tr th:only-of-type {\n",
       "        vertical-align: middle;\n",
       "    }\n",
       "\n",
       "    .dataframe tbody tr th {\n",
       "        vertical-align: top;\n",
       "    }\n",
       "\n",
       "    .dataframe thead th {\n",
       "        text-align: right;\n",
       "    }\n",
       "</style>\n",
       "<table border=\"1\" class=\"dataframe\">\n",
       "  <thead>\n",
       "    <tr style=\"text-align: right;\">\n",
       "      <th></th>\n",
       "      <th>V</th>\n",
       "      <th>treated</th>\n",
       "      <th>synthetic</th>\n",
       "      <th>sample mean</th>\n",
       "    </tr>\n",
       "  </thead>\n",
       "  <tbody>\n",
       "    <tr>\n",
       "      <th>gdp</th>\n",
       "      <td>0.240</td>\n",
       "      <td>15808.900</td>\n",
       "      <td>15777.800</td>\n",
       "      <td>13669.381</td>\n",
       "    </tr>\n",
       "    <tr>\n",
       "      <th>trade</th>\n",
       "      <td>0.205</td>\n",
       "      <td>56.778</td>\n",
       "      <td>56.980</td>\n",
       "      <td>59.831</td>\n",
       "    </tr>\n",
       "    <tr>\n",
       "      <th>infrate</th>\n",
       "      <td>0.188</td>\n",
       "      <td>2.595</td>\n",
       "      <td>3.441</td>\n",
       "      <td>7.617</td>\n",
       "    </tr>\n",
       "    <tr>\n",
       "      <th>special.1.industry</th>\n",
       "      <td>0.001</td>\n",
       "      <td>34.538</td>\n",
       "      <td>34.436</td>\n",
       "      <td>33.794</td>\n",
       "    </tr>\n",
       "    <tr>\n",
       "      <th>special.2.schooling</th>\n",
       "      <td>0.208</td>\n",
       "      <td>55.500</td>\n",
       "      <td>55.103</td>\n",
       "      <td>38.659</td>\n",
       "    </tr>\n",
       "    <tr>\n",
       "      <th>special.3.invest80</th>\n",
       "      <td>0.158</td>\n",
       "      <td>27.018</td>\n",
       "      <td>27.074</td>\n",
       "      <td>25.895</td>\n",
       "    </tr>\n",
       "  </tbody>\n",
       "</table>\n",
       "</div>"
      ],
      "text/plain": [
       "                         V    treated  synthetic  sample mean\n",
       "gdp                  0.240  15808.900  15777.800    13669.381\n",
       "trade                0.205     56.778     56.980       59.831\n",
       "infrate              0.188      2.595      3.441        7.617\n",
       "special.1.industry   0.001     34.538     34.436       33.794\n",
       "special.2.schooling  0.208     55.500     55.103       38.659\n",
       "special.3.invest80   0.158     27.018     27.074       25.895"
      ]
     },
     "execution_count": 8,
     "metadata": {},
     "output_type": "execute_result"
    }
   ],
   "source": [
    "synth.summary()"
   ]
  },
  {
   "cell_type": "markdown",
   "metadata": {},
   "source": [
    "Compute the average treatment effect on the treated unit (ATT) over the post-treatment time period. This method returns a standard error also."
   ]
  },
  {
   "cell_type": "code",
   "execution_count": 9,
   "metadata": {},
   "outputs": [
    {
     "data": {
      "text/plain": [
       "{'att': -1555.1346777620479, 'se': 317.6469306023242}"
      ]
     },
     "execution_count": 9,
     "metadata": {},
     "output_type": "execute_result"
    }
   ],
   "source": [
    "synth.att(time_period=range(1990, 2004))"
   ]
  },
  {
   "cell_type": "markdown",
   "metadata": {},
   "source": [
    "Calculate 95% confidence intervals for the treatment effect for time periods $t=1991, \\ldots, 2000$. "
   ]
  },
  {
   "cell_type": "code",
   "execution_count": 10,
   "metadata": {},
   "outputs": [
    {
     "data": {
      "text/html": [
       "<div>\n",
       "<style scoped>\n",
       "    .dataframe tbody tr th:only-of-type {\n",
       "        vertical-align: middle;\n",
       "    }\n",
       "\n",
       "    .dataframe tbody tr th {\n",
       "        vertical-align: top;\n",
       "    }\n",
       "\n",
       "    .dataframe thead th {\n",
       "        text-align: right;\n",
       "    }\n",
       "</style>\n",
       "<table border=\"1\" class=\"dataframe\">\n",
       "  <thead>\n",
       "    <tr style=\"text-align: right;\">\n",
       "      <th></th>\n",
       "      <th>value</th>\n",
       "      <th>lower_ci</th>\n",
       "      <th>upper_ci</th>\n",
       "    </tr>\n",
       "    <tr>\n",
       "      <th>time</th>\n",
       "      <th></th>\n",
       "      <th></th>\n",
       "      <th></th>\n",
       "    </tr>\n",
       "  </thead>\n",
       "  <tbody>\n",
       "    <tr>\n",
       "      <th>1991</th>\n",
       "      <td>279.096860</td>\n",
       "      <td>43.070748</td>\n",
       "      <td>515.122971</td>\n",
       "    </tr>\n",
       "    <tr>\n",
       "      <th>1992</th>\n",
       "      <td>99.762034</td>\n",
       "      <td>-136.264077</td>\n",
       "      <td>335.788146</td>\n",
       "    </tr>\n",
       "    <tr>\n",
       "      <th>1993</th>\n",
       "      <td>-631.543723</td>\n",
       "      <td>-867.569835</td>\n",
       "      <td>-395.517612</td>\n",
       "    </tr>\n",
       "    <tr>\n",
       "      <th>1994</th>\n",
       "      <td>-1050.267990</td>\n",
       "      <td>-1286.294102</td>\n",
       "      <td>-814.241878</td>\n",
       "    </tr>\n",
       "    <tr>\n",
       "      <th>1995</th>\n",
       "      <td>-1205.254923</td>\n",
       "      <td>-1441.281034</td>\n",
       "      <td>-969.228811</td>\n",
       "    </tr>\n",
       "    <tr>\n",
       "      <th>1996</th>\n",
       "      <td>-1467.249163</td>\n",
       "      <td>-1703.275274</td>\n",
       "      <td>-1231.223051</td>\n",
       "    </tr>\n",
       "    <tr>\n",
       "      <th>1997</th>\n",
       "      <td>-1954.374169</td>\n",
       "      <td>-2190.400281</td>\n",
       "      <td>-1718.348057</td>\n",
       "    </tr>\n",
       "    <tr>\n",
       "      <th>1998</th>\n",
       "      <td>-2008.396030</td>\n",
       "      <td>-2244.422142</td>\n",
       "      <td>-1772.369918</td>\n",
       "    </tr>\n",
       "    <tr>\n",
       "      <th>1999</th>\n",
       "      <td>-2160.627037</td>\n",
       "      <td>-2396.653148</td>\n",
       "      <td>-1924.600925</td>\n",
       "    </tr>\n",
       "    <tr>\n",
       "      <th>2000</th>\n",
       "      <td>-2620.733091</td>\n",
       "      <td>-2856.759203</td>\n",
       "      <td>-2384.706979</td>\n",
       "    </tr>\n",
       "  </tbody>\n",
       "</table>\n",
       "</div>"
      ],
      "text/plain": [
       "            value     lower_ci     upper_ci\n",
       "time                                       \n",
       "1991   279.096860    43.070748   515.122971\n",
       "1992    99.762034  -136.264077   335.788146\n",
       "1993  -631.543723  -867.569835  -395.517612\n",
       "1994 -1050.267990 -1286.294102  -814.241878\n",
       "1995 -1205.254923 -1441.281034  -969.228811\n",
       "1996 -1467.249163 -1703.275274 -1231.223051\n",
       "1997 -1954.374169 -2190.400281 -1718.348057\n",
       "1998 -2008.396030 -2244.422142 -1772.369918\n",
       "1999 -2160.627037 -2396.653148 -1924.600925\n",
       "2000 -2620.733091 -2856.759203 -2384.706979"
      ]
     },
     "execution_count": 10,
     "metadata": {},
     "output_type": "execute_result"
    }
   ],
   "source": [
    "synth.confidence_interval(\n",
    "    alpha=0.05,\n",
    "    time_periods=[1991, 1992, 1993, 1994, 1995, 1996, 1997, 1998, 1999, 2000],\n",
    "    custom_V=synth_train.V,\n",
    "    tol=0.01,\n",
    "    verbose=False,\n",
    ")"
   ]
  }
 ],
 "metadata": {
  "kernelspec": {
   "display_name": ".venv",
   "language": "python",
   "name": "python3"
  },
  "language_info": {
   "codemirror_mode": {
    "name": "ipython",
    "version": 3
   },
   "file_extension": ".py",
   "mimetype": "text/x-python",
   "name": "python",
   "nbconvert_exporter": "python",
   "pygments_lexer": "ipython3",
   "version": "3.9.0"
  },
  "orig_nbformat": 4,
  "vscode": {
   "interpreter": {
    "hash": "0affce9ccf703bfc26f5559d4b07023a564b817a32e04b2ea45527debe8fe1b9"
   }
  }
 },
 "nbformat": 4,
 "nbformat_minor": 2
}
